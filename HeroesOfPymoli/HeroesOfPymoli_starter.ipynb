{
 "cells": [
  {
   "cell_type": "markdown",
   "metadata": {},
   "source": [
    "### Note\n",
    "* Instructions have been included for each segment. You do not have to follow them exactly, but they are included to help you think through the steps."
   ]
  },
  {
   "cell_type": "code",
   "execution_count": 1,
   "metadata": {},
   "outputs": [
    {
     "data": {
      "text/html": [
       "<div>\n",
       "<style scoped>\n",
       "    .dataframe tbody tr th:only-of-type {\n",
       "        vertical-align: middle;\n",
       "    }\n",
       "\n",
       "    .dataframe tbody tr th {\n",
       "        vertical-align: top;\n",
       "    }\n",
       "\n",
       "    .dataframe thead th {\n",
       "        text-align: right;\n",
       "    }\n",
       "</style>\n",
       "<table border=\"1\" class=\"dataframe\">\n",
       "  <thead>\n",
       "    <tr style=\"text-align: right;\">\n",
       "      <th></th>\n",
       "      <th>Purchase ID</th>\n",
       "      <th>SN</th>\n",
       "      <th>Age</th>\n",
       "      <th>Gender</th>\n",
       "      <th>Item ID</th>\n",
       "      <th>Item Name</th>\n",
       "      <th>Price</th>\n",
       "    </tr>\n",
       "  </thead>\n",
       "  <tbody>\n",
       "    <tr>\n",
       "      <th>0</th>\n",
       "      <td>0</td>\n",
       "      <td>Lisim78</td>\n",
       "      <td>20</td>\n",
       "      <td>Male</td>\n",
       "      <td>108</td>\n",
       "      <td>Extraction, Quickblade Of Trembling Hands</td>\n",
       "      <td>3.53</td>\n",
       "    </tr>\n",
       "    <tr>\n",
       "      <th>1</th>\n",
       "      <td>1</td>\n",
       "      <td>Lisovynya38</td>\n",
       "      <td>40</td>\n",
       "      <td>Male</td>\n",
       "      <td>143</td>\n",
       "      <td>Frenzied Scimitar</td>\n",
       "      <td>1.56</td>\n",
       "    </tr>\n",
       "    <tr>\n",
       "      <th>2</th>\n",
       "      <td>2</td>\n",
       "      <td>Ithergue48</td>\n",
       "      <td>24</td>\n",
       "      <td>Male</td>\n",
       "      <td>92</td>\n",
       "      <td>Final Critic</td>\n",
       "      <td>4.88</td>\n",
       "    </tr>\n",
       "    <tr>\n",
       "      <th>3</th>\n",
       "      <td>3</td>\n",
       "      <td>Chamassasya86</td>\n",
       "      <td>24</td>\n",
       "      <td>Male</td>\n",
       "      <td>100</td>\n",
       "      <td>Blindscythe</td>\n",
       "      <td>3.27</td>\n",
       "    </tr>\n",
       "    <tr>\n",
       "      <th>4</th>\n",
       "      <td>4</td>\n",
       "      <td>Iskosia90</td>\n",
       "      <td>23</td>\n",
       "      <td>Male</td>\n",
       "      <td>131</td>\n",
       "      <td>Fury</td>\n",
       "      <td>1.44</td>\n",
       "    </tr>\n",
       "  </tbody>\n",
       "</table>\n",
       "</div>"
      ],
      "text/plain": [
       "   Purchase ID             SN  Age Gender  Item ID  \\\n",
       "0            0        Lisim78   20   Male      108   \n",
       "1            1    Lisovynya38   40   Male      143   \n",
       "2            2     Ithergue48   24   Male       92   \n",
       "3            3  Chamassasya86   24   Male      100   \n",
       "4            4      Iskosia90   23   Male      131   \n",
       "\n",
       "                                   Item Name  Price  \n",
       "0  Extraction, Quickblade Of Trembling Hands   3.53  \n",
       "1                          Frenzied Scimitar   1.56  \n",
       "2                               Final Critic   4.88  \n",
       "3                                Blindscythe   3.27  \n",
       "4                                       Fury   1.44  "
      ]
     },
     "execution_count": 1,
     "metadata": {},
     "output_type": "execute_result"
    }
   ],
   "source": [
    "# Dependencies and Setup\n",
    "import pandas as pd\n",
    "\n",
    "# File to Load (Remember to Change These)\n",
    "file_to_load = \"C:/Users/Jenni/UNCCDABC/Homeworks/pandas-challenge/HeroesOfPymoli/HeroesOfPymoli_purchase_data.csv\"\n",
    "\n",
    "# Read Purchasing File and store into Pandas data frame\n",
    "purchase_data_pd = pd.read_csv(file_to_load)\n",
    "purchase_data_pd.head() # DELETE THIS LINE BEFORE SUBMITTING TO BOOT CAMP"
   ]
  },
  {
   "cell_type": "markdown",
   "metadata": {},
   "source": [
    "## Player Count"
   ]
  },
  {
   "cell_type": "markdown",
   "metadata": {},
   "source": [
    "* Display the total number of players\n"
   ]
  },
  {
   "cell_type": "code",
   "execution_count": 2,
   "metadata": {},
   "outputs": [
    {
     "data": {
      "text/html": [
       "<div>\n",
       "<style scoped>\n",
       "    .dataframe tbody tr th:only-of-type {\n",
       "        vertical-align: middle;\n",
       "    }\n",
       "\n",
       "    .dataframe tbody tr th {\n",
       "        vertical-align: top;\n",
       "    }\n",
       "\n",
       "    .dataframe thead th {\n",
       "        text-align: right;\n",
       "    }\n",
       "</style>\n",
       "<table border=\"1\" class=\"dataframe\">\n",
       "  <thead>\n",
       "    <tr style=\"text-align: right;\">\n",
       "      <th></th>\n",
       "      <th>Total Players</th>\n",
       "    </tr>\n",
       "  </thead>\n",
       "  <tbody>\n",
       "    <tr>\n",
       "      <th>0</th>\n",
       "      <td>576</td>\n",
       "    </tr>\n",
       "  </tbody>\n",
       "</table>\n",
       "</div>"
      ],
      "text/plain": [
       "   Total Players\n",
       "0            576"
      ]
     },
     "execution_count": 2,
     "metadata": {},
     "output_type": "execute_result"
    }
   ],
   "source": [
    "unique_players = purchase_data_pd[\"SN\"].nunique()\n",
    "total_players_df = pd.DataFrame({\"Total Players\": [unique_players]})\n",
    "total_players_df"
   ]
  },
  {
   "cell_type": "markdown",
   "metadata": {},
   "source": [
    "## Purchasing Analysis (Total)"
   ]
  },
  {
   "cell_type": "markdown",
   "metadata": {},
   "source": [
    "* Run basic calculations to obtain number of unique items, average price, etc.\n",
    "\n",
    "\n",
    "* Create a summary data frame to hold the results\n",
    "\n",
    "\n",
    "* Optional: give the displayed data cleaner formatting\n",
    "\n",
    "\n",
    "* Display the summary data frame\n"
   ]
  },
  {
   "cell_type": "code",
   "execution_count": 3,
   "metadata": {
    "scrolled": true
   },
   "outputs": [
    {
     "data": {
      "text/html": [
       "<style  type=\"text/css\" >\n",
       "</style><table id=\"T_0b0e3512_ec62_11e9_8fb0_a08869599cae\" ><thead>    <tr>        <th class=\"blank level0\" ></th>        <th class=\"col_heading level0 col0\" >Number of Unique Items</th>        <th class=\"col_heading level0 col1\" >Average Price</th>        <th class=\"col_heading level0 col2\" >Number of Purchases</th>        <th class=\"col_heading level0 col3\" >Total Revenue</th>    </tr></thead><tbody>\n",
       "                <tr>\n",
       "                        <th id=\"T_0b0e3512_ec62_11e9_8fb0_a08869599caelevel0_row0\" class=\"row_heading level0 row0\" >0</th>\n",
       "                        <td id=\"T_0b0e3512_ec62_11e9_8fb0_a08869599caerow0_col0\" class=\"data row0 col0\" >183</td>\n",
       "                        <td id=\"T_0b0e3512_ec62_11e9_8fb0_a08869599caerow0_col1\" class=\"data row0 col1\" >$3.05</td>\n",
       "                        <td id=\"T_0b0e3512_ec62_11e9_8fb0_a08869599caerow0_col2\" class=\"data row0 col2\" >780</td>\n",
       "                        <td id=\"T_0b0e3512_ec62_11e9_8fb0_a08869599caerow0_col3\" class=\"data row0 col3\" >$2,379.77</td>\n",
       "            </tr>\n",
       "    </tbody></table>"
      ],
      "text/plain": [
       "<pandas.io.formats.style.Styler at 0x2373d6d2400>"
      ]
     },
     "execution_count": 3,
     "metadata": {},
     "output_type": "execute_result"
    }
   ],
   "source": [
    "# Get number of unique items\n",
    "purchasing_items = len(purchase_data_pd[\"Item ID\"].unique())\n",
    "\n",
    "# Get average price of items\n",
    "average_price_items = purchase_data_pd[\"Price\"].mean()\n",
    "\n",
    "# Total number of purchases\n",
    "total_revenue = purchase_data_pd[\"Item ID\"].count()\n",
    "total_revenue # MAYBE i DON'T NEED THIS VARIABLE\n",
    "\n",
    "# Get total revenue\n",
    "purchase_data_pd[\"Price\"].sum()\n",
    "\n",
    "# Save and display summary data frame\n",
    "purchasing_analysis_df = pd.DataFrame({\"Number of Unique Items\": [purchasing_items],\n",
    "                                      \"Average Price\": average_price_items,\n",
    "                                      \"Number of Purchases\": [total_revenue],\n",
    "                                       \"Total Revenue\": purchase_data_pd[\"Price\"].sum()})\n",
    "purchasing_analysis_df.style.format({'Average Price':\"${:.2f}\", \n",
    "                                    \"Total Revenue\": \"${:,.2f}\"})"
   ]
  },
  {
   "cell_type": "markdown",
   "metadata": {},
   "source": [
    "## Gender Demographics"
   ]
  },
  {
   "cell_type": "markdown",
   "metadata": {},
   "source": [
    "* Percentage and Count of Male Players\n",
    "\n",
    "\n",
    "* Percentage and Count of Female Players\n",
    "\n",
    "\n",
    "* Percentage and Count of Other / Non-Disclosed\n",
    "\n",
    "\n"
   ]
  },
  {
   "cell_type": "code",
   "execution_count": 4,
   "metadata": {},
   "outputs": [
    {
     "data": {
      "text/html": [
       "<style  type=\"text/css\" >\n",
       "</style><table id=\"T_0b130080_ec62_11e9_b8c2_a08869599cae\" ><thead>    <tr>        <th class=\"blank level0\" ></th>        <th class=\"col_heading level0 col0\" >Total Count</th>        <th class=\"col_heading level0 col1\" >Percentage of Players</th>    </tr></thead><tbody>\n",
       "                <tr>\n",
       "                        <th id=\"T_0b130080_ec62_11e9_b8c2_a08869599caelevel0_row0\" class=\"row_heading level0 row0\" >Male</th>\n",
       "                        <td id=\"T_0b130080_ec62_11e9_b8c2_a08869599caerow0_col0\" class=\"data row0 col0\" >484</td>\n",
       "                        <td id=\"T_0b130080_ec62_11e9_b8c2_a08869599caerow0_col1\" class=\"data row0 col1\" >84.03%</td>\n",
       "            </tr>\n",
       "            <tr>\n",
       "                        <th id=\"T_0b130080_ec62_11e9_b8c2_a08869599caelevel0_row1\" class=\"row_heading level0 row1\" >Female</th>\n",
       "                        <td id=\"T_0b130080_ec62_11e9_b8c2_a08869599caerow1_col0\" class=\"data row1 col0\" >81</td>\n",
       "                        <td id=\"T_0b130080_ec62_11e9_b8c2_a08869599caerow1_col1\" class=\"data row1 col1\" >14.06%</td>\n",
       "            </tr>\n",
       "            <tr>\n",
       "                        <th id=\"T_0b130080_ec62_11e9_b8c2_a08869599caelevel0_row2\" class=\"row_heading level0 row2\" >Other / Non-Disclosed</th>\n",
       "                        <td id=\"T_0b130080_ec62_11e9_b8c2_a08869599caerow2_col0\" class=\"data row2 col0\" >11</td>\n",
       "                        <td id=\"T_0b130080_ec62_11e9_b8c2_a08869599caerow2_col1\" class=\"data row2 col1\" >1.91%</td>\n",
       "            </tr>\n",
       "    </tbody></table>"
      ],
      "text/plain": [
       "<pandas.io.formats.style.Styler at 0x2373d66efd0>"
      ]
     },
     "execution_count": 4,
     "metadata": {},
     "output_type": "execute_result"
    }
   ],
   "source": [
    "# Get gender groups from data\n",
    "gender_groups = purchase_data_pd.groupby([\"Gender\"])\n",
    "\n",
    "# Total number of unique players\n",
    "total_gender_groups = gender_groups.nunique()[\"SN\"]\n",
    "\n",
    "# Get percentage of players\n",
    "percentage_of_players = (total_gender_groups / unique_players)\n",
    "\n",
    "# Print a summary of the Gender Demographics\n",
    "gender_demographics = pd.DataFrame({\"Total Count\" : total_gender_groups,\n",
    "                                    \"Percentage of Players\": percentage_of_players},\n",
    "                                   index=[\"Male\", \"Female\", \"Other / Non-Disclosed\"])\n",
    "gender_demographics.style.format({'Percentage of Players':\"{:.2%}\"})"
   ]
  },
  {
   "cell_type": "markdown",
   "metadata": {},
   "source": [
    "\n",
    "## Purchasing Analysis (Gender)"
   ]
  },
  {
   "cell_type": "markdown",
   "metadata": {},
   "source": [
    "* Run basic calculations to obtain purchase count, avg. purchase price, avg. purchase total per person etc. by gender\n",
    "\n",
    "\n",
    "\n",
    "\n",
    "* Create a summary data frame to hold the results\n",
    "\n",
    "\n",
    "* Optional: give the displayed data cleaner formatting\n",
    "\n",
    "\n",
    "* Display the summary data frame"
   ]
  },
  {
   "cell_type": "code",
   "execution_count": 8,
   "metadata": {},
   "outputs": [
    {
     "data": {
      "text/html": [
       "<style  type=\"text/css\" >\n",
       "</style><table id=\"T_4fe8831a_ec62_11e9_ab47_a08869599cae\" ><thead>    <tr>        <th class=\"blank level0\" ></th>        <th class=\"col_heading level0 col0\" >Purchase Count</th>        <th class=\"col_heading level0 col1\" >Average Purchase Price</th>        <th class=\"col_heading level0 col2\" >Total Purchase Value</th>        <th class=\"col_heading level0 col3\" >Avg Total Purchase per Person</th>    </tr>    <tr>        <th class=\"index_name level0\" >Gender</th>        <th class=\"blank\" ></th>        <th class=\"blank\" ></th>        <th class=\"blank\" ></th>        <th class=\"blank\" ></th>    </tr></thead><tbody>\n",
       "                <tr>\n",
       "                        <th id=\"T_4fe8831a_ec62_11e9_ab47_a08869599caelevel0_row0\" class=\"row_heading level0 row0\" >Female</th>\n",
       "                        <td id=\"T_4fe8831a_ec62_11e9_ab47_a08869599caerow0_col0\" class=\"data row0 col0\" >113</td>\n",
       "                        <td id=\"T_4fe8831a_ec62_11e9_ab47_a08869599caerow0_col1\" class=\"data row0 col1\" >$3.20</td>\n",
       "                        <td id=\"T_4fe8831a_ec62_11e9_ab47_a08869599caerow0_col2\" class=\"data row0 col2\" >$361.94</td>\n",
       "                        <td id=\"T_4fe8831a_ec62_11e9_ab47_a08869599caerow0_col3\" class=\"data row0 col3\" >$4.47</td>\n",
       "            </tr>\n",
       "            <tr>\n",
       "                        <th id=\"T_4fe8831a_ec62_11e9_ab47_a08869599caelevel0_row1\" class=\"row_heading level0 row1\" >Male</th>\n",
       "                        <td id=\"T_4fe8831a_ec62_11e9_ab47_a08869599caerow1_col0\" class=\"data row1 col0\" >652</td>\n",
       "                        <td id=\"T_4fe8831a_ec62_11e9_ab47_a08869599caerow1_col1\" class=\"data row1 col1\" >$3.02</td>\n",
       "                        <td id=\"T_4fe8831a_ec62_11e9_ab47_a08869599caerow1_col2\" class=\"data row1 col2\" >$1,967.64</td>\n",
       "                        <td id=\"T_4fe8831a_ec62_11e9_ab47_a08869599caerow1_col3\" class=\"data row1 col3\" >$4.07</td>\n",
       "            </tr>\n",
       "            <tr>\n",
       "                        <th id=\"T_4fe8831a_ec62_11e9_ab47_a08869599caelevel0_row2\" class=\"row_heading level0 row2\" >Other / Non-Disclosed</th>\n",
       "                        <td id=\"T_4fe8831a_ec62_11e9_ab47_a08869599caerow2_col0\" class=\"data row2 col0\" >15</td>\n",
       "                        <td id=\"T_4fe8831a_ec62_11e9_ab47_a08869599caerow2_col1\" class=\"data row2 col1\" >$3.35</td>\n",
       "                        <td id=\"T_4fe8831a_ec62_11e9_ab47_a08869599caerow2_col2\" class=\"data row2 col2\" >$50.19</td>\n",
       "                        <td id=\"T_4fe8831a_ec62_11e9_ab47_a08869599caerow2_col3\" class=\"data row2 col3\" >$4.56</td>\n",
       "            </tr>\n",
       "    </tbody></table>"
      ],
      "text/plain": [
       "<pandas.io.formats.style.Styler at 0x2373dcbc6d8>"
      ]
     },
     "execution_count": 8,
     "metadata": {},
     "output_type": "execute_result"
    }
   ],
   "source": [
    "# Using series gender_groups from Gender Demographics section\n",
    "\n",
    "# Total items purchases by gender\n",
    "purchase_count = gender_groups.count()['Purchase ID']\n",
    "\n",
    "# Get total purchase value\n",
    "total_purchase = gender_groups.sum()['Price']\n",
    "\n",
    "# Get average purchase price by gender\n",
    "average_price = total_purchase / purchase_count\n",
    "\n",
    "# Get average purchase per person\n",
    "avg_total_purchase_person = total_purchase / total_gender_groups\n",
    "\n",
    "# DIsplay the summary data frame \"Purchasing Analysis (Gender)\"\n",
    "purchasing_by_gender_df = pd.DataFrame({\"Purchase Count\": purchase_count,\n",
    "                                        \"Average Purchase Price\" : average_price,\n",
    "                                        \"Total Purchase Value\": total_purchase,\n",
    "                                       \"Avg Total Purchase per Person\": avg_total_purchase_person})\n",
    "purchasing_by_gender_df.style.format({\"Average Purchase Price\":\"${:.2f}\",\n",
    "                                      \"Avg Total Purchase per Person\":\"${:.2f}\",\n",
    "                                      \"Total Purchase Value\": \"${:,.2f}\"})"
   ]
  },
  {
   "cell_type": "markdown",
   "metadata": {},
   "source": [
    "## Age Demographics"
   ]
  },
  {
   "cell_type": "markdown",
   "metadata": {},
   "source": [
    "* Establish bins for ages\n",
    "\n",
    "\n",
    "* Categorize the existing players using the age bins. Hint: use pd.cut()\n",
    "\n",
    "\n",
    "* Calculate the numbers and percentages by age group\n",
    "\n",
    "\n",
    "* Create a summary data frame to hold the results\n",
    "\n",
    "\n",
    "* Optional: round the percentage column to two decimal points\n",
    "\n",
    "\n",
    "* Display Age Demographics Table\n"
   ]
  },
  {
   "cell_type": "code",
   "execution_count": 19,
   "metadata": {},
   "outputs": [
    {
     "data": {
      "text/html": [
       "<style  type=\"text/css\" >\n",
       "</style><table id=\"T_bbe1a6fe_ec69_11e9_8e23_a08869599cae\" ><thead>    <tr>        <th class=\"blank level0\" ></th>        <th class=\"col_heading level0 col0\" >Total Count</th>        <th class=\"col_heading level0 col1\" >Percentage of Players</th>    </tr>    <tr>        <th class=\"index_name level0\" >Age Group</th>        <th class=\"blank\" ></th>        <th class=\"blank\" ></th>    </tr></thead><tbody>\n",
       "                <tr>\n",
       "                        <th id=\"T_bbe1a6fe_ec69_11e9_8e23_a08869599caelevel0_row0\" class=\"row_heading level0 row0\" ><10</th>\n",
       "                        <td id=\"T_bbe1a6fe_ec69_11e9_8e23_a08869599caerow0_col0\" class=\"data row0 col0\" >17</td>\n",
       "                        <td id=\"T_bbe1a6fe_ec69_11e9_8e23_a08869599caerow0_col1\" class=\"data row0 col1\" >2.95%</td>\n",
       "            </tr>\n",
       "            <tr>\n",
       "                        <th id=\"T_bbe1a6fe_ec69_11e9_8e23_a08869599caelevel0_row1\" class=\"row_heading level0 row1\" >10-14</th>\n",
       "                        <td id=\"T_bbe1a6fe_ec69_11e9_8e23_a08869599caerow1_col0\" class=\"data row1 col0\" >22</td>\n",
       "                        <td id=\"T_bbe1a6fe_ec69_11e9_8e23_a08869599caerow1_col1\" class=\"data row1 col1\" >3.82%</td>\n",
       "            </tr>\n",
       "            <tr>\n",
       "                        <th id=\"T_bbe1a6fe_ec69_11e9_8e23_a08869599caelevel0_row2\" class=\"row_heading level0 row2\" >15-19</th>\n",
       "                        <td id=\"T_bbe1a6fe_ec69_11e9_8e23_a08869599caerow2_col0\" class=\"data row2 col0\" >107</td>\n",
       "                        <td id=\"T_bbe1a6fe_ec69_11e9_8e23_a08869599caerow2_col1\" class=\"data row2 col1\" >18.58%</td>\n",
       "            </tr>\n",
       "            <tr>\n",
       "                        <th id=\"T_bbe1a6fe_ec69_11e9_8e23_a08869599caelevel0_row3\" class=\"row_heading level0 row3\" >20-24</th>\n",
       "                        <td id=\"T_bbe1a6fe_ec69_11e9_8e23_a08869599caerow3_col0\" class=\"data row3 col0\" >258</td>\n",
       "                        <td id=\"T_bbe1a6fe_ec69_11e9_8e23_a08869599caerow3_col1\" class=\"data row3 col1\" >44.79%</td>\n",
       "            </tr>\n",
       "            <tr>\n",
       "                        <th id=\"T_bbe1a6fe_ec69_11e9_8e23_a08869599caelevel0_row4\" class=\"row_heading level0 row4\" >25-29</th>\n",
       "                        <td id=\"T_bbe1a6fe_ec69_11e9_8e23_a08869599caerow4_col0\" class=\"data row4 col0\" >77</td>\n",
       "                        <td id=\"T_bbe1a6fe_ec69_11e9_8e23_a08869599caerow4_col1\" class=\"data row4 col1\" >13.37%</td>\n",
       "            </tr>\n",
       "            <tr>\n",
       "                        <th id=\"T_bbe1a6fe_ec69_11e9_8e23_a08869599caelevel0_row5\" class=\"row_heading level0 row5\" >30-34</th>\n",
       "                        <td id=\"T_bbe1a6fe_ec69_11e9_8e23_a08869599caerow5_col0\" class=\"data row5 col0\" >52</td>\n",
       "                        <td id=\"T_bbe1a6fe_ec69_11e9_8e23_a08869599caerow5_col1\" class=\"data row5 col1\" >9.03%</td>\n",
       "            </tr>\n",
       "            <tr>\n",
       "                        <th id=\"T_bbe1a6fe_ec69_11e9_8e23_a08869599caelevel0_row6\" class=\"row_heading level0 row6\" >35-39</th>\n",
       "                        <td id=\"T_bbe1a6fe_ec69_11e9_8e23_a08869599caerow6_col0\" class=\"data row6 col0\" >31</td>\n",
       "                        <td id=\"T_bbe1a6fe_ec69_11e9_8e23_a08869599caerow6_col1\" class=\"data row6 col1\" >5.38%</td>\n",
       "            </tr>\n",
       "            <tr>\n",
       "                        <th id=\"T_bbe1a6fe_ec69_11e9_8e23_a08869599caelevel0_row7\" class=\"row_heading level0 row7\" >+40</th>\n",
       "                        <td id=\"T_bbe1a6fe_ec69_11e9_8e23_a08869599caerow7_col0\" class=\"data row7 col0\" >12</td>\n",
       "                        <td id=\"T_bbe1a6fe_ec69_11e9_8e23_a08869599caerow7_col1\" class=\"data row7 col1\" >2.08%</td>\n",
       "            </tr>\n",
       "    </tbody></table>"
      ],
      "text/plain": [
       "<pandas.io.formats.style.Styler at 0x2373f01f4e0>"
      ]
     },
     "execution_count": 19,
     "metadata": {},
     "output_type": "execute_result"
    }
   ],
   "source": [
    "# Create bins in which to place values based upon the age in the data.\n",
    "age_bins = [0, 9, 14, 19, 24, 29, 34, 39, 200]\n",
    "\n",
    "# Create labels for these bins\n",
    "age_labels = [\"<10\", \"10-14\", \"15-19\", \"20-24\", \"25-29\", \"30-34\", \"35-39\", \"+40\"]\n",
    "\n",
    "# Place the dara series into a new column inside of the DataFrame\n",
    "purchase_data_pd[\"Age Group\"] = pd.cut(purchase_data_pd[\"Age\"], age_bins,\n",
    "                                      labels=age_labels)\n",
    "\n",
    "# Create a GroupBy object based upon \"Age Group\"\n",
    "# Categorize the existing players using the age bins\n",
    "age_group = purchase_data_pd.groupby(\"Age Group\")\n",
    "total_count_age = age_group.nunique()[\"SN\"]\n",
    "\n",
    "# Get percentage of players by age group\n",
    "pct_players_age = total_count_age / unique_players\n",
    "\n",
    "# Summary talbe for Age Demographics\n",
    "age_demographics_df = pd.DataFrame({\"Total Count\": total_count,\n",
    "                                   \"Percentage of Players\": pct_players_age})\n",
    "age_demographics_df.style.format({'Percentage of Players':\"{:.2%}\"})"
   ]
  },
  {
   "cell_type": "markdown",
   "metadata": {},
   "source": [
    "## Purchasing Analysis (Age)"
   ]
  },
  {
   "cell_type": "markdown",
   "metadata": {},
   "source": [
    "* Bin the purchase_data data frame by age\n",
    "\n",
    "\n",
    "* Run basic calculations to obtain purchase count, avg. purchase price, avg. purchase total per person etc. in the table below\n",
    "\n",
    "\n",
    "* Create a summary data frame to hold the results\n",
    "\n",
    "\n",
    "* Optional: give the displayed data cleaner formatting\n",
    "\n",
    "\n",
    "* Display the summary data frame"
   ]
  },
  {
   "cell_type": "code",
   "execution_count": 21,
   "metadata": {},
   "outputs": [
    {
     "data": {
      "text/html": [
       "<style  type=\"text/css\" >\n",
       "</style><table id=\"T_1bc9f914_ec6b_11e9_9d0f_a08869599cae\" ><thead>    <tr>        <th class=\"blank level0\" ></th>        <th class=\"col_heading level0 col0\" >Purchase Count</th>        <th class=\"col_heading level0 col1\" >Average Purchase Price</th>        <th class=\"col_heading level0 col2\" >Total Purchase Value</th>        <th class=\"col_heading level0 col3\" >Avg Total Purchase per Person</th>    </tr>    <tr>        <th class=\"index_name level0\" >Age Group</th>        <th class=\"blank\" ></th>        <th class=\"blank\" ></th>        <th class=\"blank\" ></th>        <th class=\"blank\" ></th>    </tr></thead><tbody>\n",
       "                <tr>\n",
       "                        <th id=\"T_1bc9f914_ec6b_11e9_9d0f_a08869599caelevel0_row0\" class=\"row_heading level0 row0\" ><10</th>\n",
       "                        <td id=\"T_1bc9f914_ec6b_11e9_9d0f_a08869599caerow0_col0\" class=\"data row0 col0\" >23</td>\n",
       "                        <td id=\"T_1bc9f914_ec6b_11e9_9d0f_a08869599caerow0_col1\" class=\"data row0 col1\" >$3.35</td>\n",
       "                        <td id=\"T_1bc9f914_ec6b_11e9_9d0f_a08869599caerow0_col2\" class=\"data row0 col2\" >$77.13</td>\n",
       "                        <td id=\"T_1bc9f914_ec6b_11e9_9d0f_a08869599caerow0_col3\" class=\"data row0 col3\" >$4.54</td>\n",
       "            </tr>\n",
       "            <tr>\n",
       "                        <th id=\"T_1bc9f914_ec6b_11e9_9d0f_a08869599caelevel0_row1\" class=\"row_heading level0 row1\" >10-14</th>\n",
       "                        <td id=\"T_1bc9f914_ec6b_11e9_9d0f_a08869599caerow1_col0\" class=\"data row1 col0\" >28</td>\n",
       "                        <td id=\"T_1bc9f914_ec6b_11e9_9d0f_a08869599caerow1_col1\" class=\"data row1 col1\" >$2.96</td>\n",
       "                        <td id=\"T_1bc9f914_ec6b_11e9_9d0f_a08869599caerow1_col2\" class=\"data row1 col2\" >$82.78</td>\n",
       "                        <td id=\"T_1bc9f914_ec6b_11e9_9d0f_a08869599caerow1_col3\" class=\"data row1 col3\" >$3.76</td>\n",
       "            </tr>\n",
       "            <tr>\n",
       "                        <th id=\"T_1bc9f914_ec6b_11e9_9d0f_a08869599caelevel0_row2\" class=\"row_heading level0 row2\" >15-19</th>\n",
       "                        <td id=\"T_1bc9f914_ec6b_11e9_9d0f_a08869599caerow2_col0\" class=\"data row2 col0\" >136</td>\n",
       "                        <td id=\"T_1bc9f914_ec6b_11e9_9d0f_a08869599caerow2_col1\" class=\"data row2 col1\" >$3.04</td>\n",
       "                        <td id=\"T_1bc9f914_ec6b_11e9_9d0f_a08869599caerow2_col2\" class=\"data row2 col2\" >$412.89</td>\n",
       "                        <td id=\"T_1bc9f914_ec6b_11e9_9d0f_a08869599caerow2_col3\" class=\"data row2 col3\" >$3.86</td>\n",
       "            </tr>\n",
       "            <tr>\n",
       "                        <th id=\"T_1bc9f914_ec6b_11e9_9d0f_a08869599caelevel0_row3\" class=\"row_heading level0 row3\" >20-24</th>\n",
       "                        <td id=\"T_1bc9f914_ec6b_11e9_9d0f_a08869599caerow3_col0\" class=\"data row3 col0\" >365</td>\n",
       "                        <td id=\"T_1bc9f914_ec6b_11e9_9d0f_a08869599caerow3_col1\" class=\"data row3 col1\" >$3.05</td>\n",
       "                        <td id=\"T_1bc9f914_ec6b_11e9_9d0f_a08869599caerow3_col2\" class=\"data row3 col2\" >$1,114.06</td>\n",
       "                        <td id=\"T_1bc9f914_ec6b_11e9_9d0f_a08869599caerow3_col3\" class=\"data row3 col3\" >$4.32</td>\n",
       "            </tr>\n",
       "            <tr>\n",
       "                        <th id=\"T_1bc9f914_ec6b_11e9_9d0f_a08869599caelevel0_row4\" class=\"row_heading level0 row4\" >25-29</th>\n",
       "                        <td id=\"T_1bc9f914_ec6b_11e9_9d0f_a08869599caerow4_col0\" class=\"data row4 col0\" >101</td>\n",
       "                        <td id=\"T_1bc9f914_ec6b_11e9_9d0f_a08869599caerow4_col1\" class=\"data row4 col1\" >$2.90</td>\n",
       "                        <td id=\"T_1bc9f914_ec6b_11e9_9d0f_a08869599caerow4_col2\" class=\"data row4 col2\" >$293.00</td>\n",
       "                        <td id=\"T_1bc9f914_ec6b_11e9_9d0f_a08869599caerow4_col3\" class=\"data row4 col3\" >$3.81</td>\n",
       "            </tr>\n",
       "            <tr>\n",
       "                        <th id=\"T_1bc9f914_ec6b_11e9_9d0f_a08869599caelevel0_row5\" class=\"row_heading level0 row5\" >30-34</th>\n",
       "                        <td id=\"T_1bc9f914_ec6b_11e9_9d0f_a08869599caerow5_col0\" class=\"data row5 col0\" >73</td>\n",
       "                        <td id=\"T_1bc9f914_ec6b_11e9_9d0f_a08869599caerow5_col1\" class=\"data row5 col1\" >$2.93</td>\n",
       "                        <td id=\"T_1bc9f914_ec6b_11e9_9d0f_a08869599caerow5_col2\" class=\"data row5 col2\" >$214.00</td>\n",
       "                        <td id=\"T_1bc9f914_ec6b_11e9_9d0f_a08869599caerow5_col3\" class=\"data row5 col3\" >$4.12</td>\n",
       "            </tr>\n",
       "            <tr>\n",
       "                        <th id=\"T_1bc9f914_ec6b_11e9_9d0f_a08869599caelevel0_row6\" class=\"row_heading level0 row6\" >35-39</th>\n",
       "                        <td id=\"T_1bc9f914_ec6b_11e9_9d0f_a08869599caerow6_col0\" class=\"data row6 col0\" >41</td>\n",
       "                        <td id=\"T_1bc9f914_ec6b_11e9_9d0f_a08869599caerow6_col1\" class=\"data row6 col1\" >$3.60</td>\n",
       "                        <td id=\"T_1bc9f914_ec6b_11e9_9d0f_a08869599caerow6_col2\" class=\"data row6 col2\" >$147.67</td>\n",
       "                        <td id=\"T_1bc9f914_ec6b_11e9_9d0f_a08869599caerow6_col3\" class=\"data row6 col3\" >$4.76</td>\n",
       "            </tr>\n",
       "            <tr>\n",
       "                        <th id=\"T_1bc9f914_ec6b_11e9_9d0f_a08869599caelevel0_row7\" class=\"row_heading level0 row7\" >+40</th>\n",
       "                        <td id=\"T_1bc9f914_ec6b_11e9_9d0f_a08869599caerow7_col0\" class=\"data row7 col0\" >13</td>\n",
       "                        <td id=\"T_1bc9f914_ec6b_11e9_9d0f_a08869599caerow7_col1\" class=\"data row7 col1\" >$2.94</td>\n",
       "                        <td id=\"T_1bc9f914_ec6b_11e9_9d0f_a08869599caerow7_col2\" class=\"data row7 col2\" >$38.24</td>\n",
       "                        <td id=\"T_1bc9f914_ec6b_11e9_9d0f_a08869599caerow7_col3\" class=\"data row7 col3\" >$3.19</td>\n",
       "            </tr>\n",
       "    </tbody></table>"
      ],
      "text/plain": [
       "<pandas.io.formats.style.Styler at 0x2373f01f470>"
      ]
     },
     "execution_count": 21,
     "metadata": {},
     "output_type": "execute_result"
    }
   ],
   "source": [
    "# Using series age_group from Age Demographics section.\n",
    "\n",
    "# Total items purchases by gender\n",
    "purchase_count_age = age_group.count()['Purchase ID']\n",
    "\n",
    "# Get total purchase value\n",
    "total_purchase_age = age_group.sum()['Price']\n",
    "\n",
    "# Get average purchase price by age group\n",
    "average_price_person = total_purchase_age / purchase_count_age\n",
    "\n",
    "# Get average purchase per person\n",
    "avg_total_purchase_person = total_purchase_age / total_count_age\n",
    "\n",
    "# Display the summary data frame \"Purchasing Analysis (Age)\"\n",
    "purchasing_by_age_df = pd.DataFrame({\"Purchase Count\": purchase_count_age,\n",
    "                                        \"Average Purchase Price\" : average_price_person,\n",
    "                                        \"Total Purchase Value\": total_purchase_age,\n",
    "                                       \"Avg Total Purchase per Person\": avg_total_purchase_person})\n",
    "purchasing_by_age_df.style.format({\"Average Purchase Price\":\"${:.2f}\",\n",
    "                                      \"Avg Total Purchase per Person\":\"${:.2f}\",\n",
    "                                      \"Total Purchase Value\": \"${:,.2f}\"})"
   ]
  },
  {
   "cell_type": "markdown",
   "metadata": {},
   "source": [
    "## Top Spenders"
   ]
  },
  {
   "cell_type": "markdown",
   "metadata": {},
   "source": [
    "* Run basic calculations to obtain the results in the table below\n",
    "\n",
    "\n",
    "* Create a summary data frame to hold the results\n",
    "\n",
    "\n",
    "* Sort the total purchase value column in descending order\n",
    "\n",
    "\n",
    "* Optional: give the displayed data cleaner formatting\n",
    "\n",
    "\n",
    "* Display a preview of the summary data frame\n",
    "\n"
   ]
  },
  {
   "cell_type": "code",
   "execution_count": 25,
   "metadata": {},
   "outputs": [
    {
     "data": {
      "text/html": [
       "<style  type=\"text/css\" >\n",
       "</style><table id=\"T_f09c137a_ec6c_11e9_9832_a08869599cae\" ><thead>    <tr>        <th class=\"blank level0\" ></th>        <th class=\"col_heading level0 col0\" >Purchase Count</th>        <th class=\"col_heading level0 col1\" >Average Purchase Price</th>        <th class=\"col_heading level0 col2\" >Total Purchase Value</th>    </tr>    <tr>        <th class=\"index_name level0\" >SN</th>        <th class=\"blank\" ></th>        <th class=\"blank\" ></th>        <th class=\"blank\" ></th>    </tr></thead><tbody>\n",
       "                <tr>\n",
       "                        <th id=\"T_f09c137a_ec6c_11e9_9832_a08869599caelevel0_row0\" class=\"row_heading level0 row0\" >Lisosia93</th>\n",
       "                        <td id=\"T_f09c137a_ec6c_11e9_9832_a08869599caerow0_col0\" class=\"data row0 col0\" >5</td>\n",
       "                        <td id=\"T_f09c137a_ec6c_11e9_9832_a08869599caerow0_col1\" class=\"data row0 col1\" >$3.79</td>\n",
       "                        <td id=\"T_f09c137a_ec6c_11e9_9832_a08869599caerow0_col2\" class=\"data row0 col2\" >$18.96</td>\n",
       "            </tr>\n",
       "            <tr>\n",
       "                        <th id=\"T_f09c137a_ec6c_11e9_9832_a08869599caelevel0_row1\" class=\"row_heading level0 row1\" >Idastidru52</th>\n",
       "                        <td id=\"T_f09c137a_ec6c_11e9_9832_a08869599caerow1_col0\" class=\"data row1 col0\" >4</td>\n",
       "                        <td id=\"T_f09c137a_ec6c_11e9_9832_a08869599caerow1_col1\" class=\"data row1 col1\" >$3.86</td>\n",
       "                        <td id=\"T_f09c137a_ec6c_11e9_9832_a08869599caerow1_col2\" class=\"data row1 col2\" >$15.45</td>\n",
       "            </tr>\n",
       "            <tr>\n",
       "                        <th id=\"T_f09c137a_ec6c_11e9_9832_a08869599caelevel0_row2\" class=\"row_heading level0 row2\" >Chamjask73</th>\n",
       "                        <td id=\"T_f09c137a_ec6c_11e9_9832_a08869599caerow2_col0\" class=\"data row2 col0\" >3</td>\n",
       "                        <td id=\"T_f09c137a_ec6c_11e9_9832_a08869599caerow2_col1\" class=\"data row2 col1\" >$4.61</td>\n",
       "                        <td id=\"T_f09c137a_ec6c_11e9_9832_a08869599caerow2_col2\" class=\"data row2 col2\" >$13.83</td>\n",
       "            </tr>\n",
       "            <tr>\n",
       "                        <th id=\"T_f09c137a_ec6c_11e9_9832_a08869599caelevel0_row3\" class=\"row_heading level0 row3\" >Iral74</th>\n",
       "                        <td id=\"T_f09c137a_ec6c_11e9_9832_a08869599caerow3_col0\" class=\"data row3 col0\" >4</td>\n",
       "                        <td id=\"T_f09c137a_ec6c_11e9_9832_a08869599caerow3_col1\" class=\"data row3 col1\" >$3.40</td>\n",
       "                        <td id=\"T_f09c137a_ec6c_11e9_9832_a08869599caerow3_col2\" class=\"data row3 col2\" >$13.62</td>\n",
       "            </tr>\n",
       "            <tr>\n",
       "                        <th id=\"T_f09c137a_ec6c_11e9_9832_a08869599caelevel0_row4\" class=\"row_heading level0 row4\" >Iskadarya95</th>\n",
       "                        <td id=\"T_f09c137a_ec6c_11e9_9832_a08869599caerow4_col0\" class=\"data row4 col0\" >3</td>\n",
       "                        <td id=\"T_f09c137a_ec6c_11e9_9832_a08869599caerow4_col1\" class=\"data row4 col1\" >$4.37</td>\n",
       "                        <td id=\"T_f09c137a_ec6c_11e9_9832_a08869599caerow4_col2\" class=\"data row4 col2\" >$13.10</td>\n",
       "            </tr>\n",
       "    </tbody></table>"
      ],
      "text/plain": [
       "<pandas.io.formats.style.Styler at 0x2373e5c2978>"
      ]
     },
     "execution_count": 25,
     "metadata": {},
     "output_type": "execute_result"
    }
   ],
   "source": [
    "# Create a groupby based upon \"SN\"\n",
    "sn_groups = purchase_data_pd.groupby([\"SN\"])\n",
    "\n",
    "# Total number of unique players\n",
    "total_gender_groups = gender_groups.nunique()[\"SN\"]\n",
    "\n",
    "# Total items purchases by gender\n",
    "purchase_count_sn = sn_groups.count()['Purchase ID']\n",
    "\n",
    "# Get total purchase value\n",
    "total_purchase_sn = sn_groups.sum()['Price']\n",
    "\n",
    "# Get average purchase price by age group\n",
    "average_purchase_price = total_purchase_sn / purchase_count_sn\n",
    "\n",
    "# Create a DataFrame based upon \"SN\"\n",
    "purchasing_by_sn_df = pd.DataFrame({\"Purchase Count\": purchase_count_sn,\n",
    "                                        \"Average Purchase Price\" : average_purchase_price,\n",
    "                                        \"Total Purchase Value\": total_purchase_sn})\n",
    "\n",
    "# Display the summary data frame \"Top Spenders\"\n",
    "top_spenders = purchasing_by_sn_df.sort_values([\"Total Purchase Value\"], ascending=False)\n",
    "top_spenders.head().style.format({\"Average Purchase Price\":\"${:.2f}\",\n",
    "                                      \"Total Purchase Value\": \"${:,.2f}\"})"
   ]
  },
  {
   "cell_type": "markdown",
   "metadata": {},
   "source": [
    "## Most Popular Items"
   ]
  },
  {
   "cell_type": "markdown",
   "metadata": {},
   "source": [
    "* Retrieve the Item ID, Item Name, and Item Price columns\n",
    "\n",
    "\n",
    "* Group by Item ID and Item Name. Perform calculations to obtain purchase count, item price, and total purchase value\n",
    "\n",
    "\n",
    "* Create a summary data frame to hold the results\n",
    "\n",
    "\n",
    "* Sort the purchase count column in descending order\n",
    "\n",
    "\n",
    "* Optional: give the displayed data cleaner formatting\n",
    "\n",
    "\n",
    "* Display a preview of the summary data frame\n",
    "\n"
   ]
  },
  {
   "cell_type": "code",
   "execution_count": null,
   "metadata": {},
   "outputs": [],
   "source": []
  },
  {
   "cell_type": "markdown",
   "metadata": {},
   "source": [
    "## Most Profitable Items"
   ]
  },
  {
   "cell_type": "markdown",
   "metadata": {},
   "source": [
    "* Sort the above table by total purchase value in descending order\n",
    "\n",
    "\n",
    "* Optional: give the displayed data cleaner formatting\n",
    "\n",
    "\n",
    "* Display a preview of the data frame\n",
    "\n"
   ]
  },
  {
   "cell_type": "code",
   "execution_count": null,
   "metadata": {
    "scrolled": true
   },
   "outputs": [],
   "source": []
  }
 ],
 "metadata": {
  "anaconda-cloud": {},
  "kernel_info": {
   "name": "python3"
  },
  "kernelspec": {
   "display_name": "Python 3",
   "language": "python",
   "name": "python3"
  },
  "language_info": {
   "codemirror_mode": {
    "name": "ipython",
    "version": 3
   },
   "file_extension": ".py",
   "mimetype": "text/x-python",
   "name": "python",
   "nbconvert_exporter": "python",
   "pygments_lexer": "ipython3",
   "version": "3.7.3"
  },
  "latex_envs": {
   "LaTeX_envs_menu_present": true,
   "autoclose": false,
   "autocomplete": true,
   "bibliofile": "biblio.bib",
   "cite_by": "apalike",
   "current_citInitial": 1,
   "eqLabelWithNumbers": true,
   "eqNumInitial": 1,
   "hotkeys": {
    "equation": "Ctrl-E",
    "itemize": "Ctrl-I"
   },
   "labels_anchors": false,
   "latex_user_defs": false,
   "report_style_numbering": false,
   "user_envs_cfg": false
  },
  "nteract": {
   "version": "0.2.0"
  }
 },
 "nbformat": 4,
 "nbformat_minor": 2
}
